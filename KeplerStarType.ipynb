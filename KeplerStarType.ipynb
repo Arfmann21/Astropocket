{
  "nbformat": 4,
  "nbformat_minor": 0,
  "metadata": {
    "colab": {
      "provenance": [],
      "authorship_tag": "ABX9TyM/2anBbJtq/0uGVZDBkYBb"
    },
    "kernelspec": {
      "name": "python3",
      "display_name": "Python 3"
    },
    "language_info": {
      "name": "python"
    }
  },
  "cells": [
    {
      "cell_type": "code",
      "execution_count": null,
      "metadata": {
        "colab": {
          "base_uri": "https://localhost:8080/"
        },
        "id": "uzVgxti6eEMB",
        "outputId": "e63fea00-e380-41c1-b884-1ffc59220bcf"
      },
      "outputs": [
        {
          "output_type": "stream",
          "name": "stdout",
          "text": [
            "============ BENVENUTO ============\n",
            "Questo è un classificatore che predice il tipo delle stelle osservate dal telescopio Kepler\n",
            "White Dwarf\n",
            "Red Dwarf\n",
            "Main Sequence\n",
            "Main Sequence\n",
            "Main Sequence\n",
            "Supergiant\n",
            "Supergiant\n",
            "White Dwarf\n",
            "Red Dwarf\n",
            "White Dwarf\n",
            "Main Sequence\n",
            "White Dwarf\n",
            "Supergiant\n",
            "Main Sequence\n",
            "Supergiant\n",
            "Supergiant\n",
            "Red Dwarf\n",
            "Brown Dwarf\n",
            "Main Sequence\n",
            "Red Dwarf\n",
            "Red Dwarf\n",
            "Brown Dwarf\n",
            "Supergiant\n",
            "Main Sequence\n",
            "Supergiant\n",
            "Main Sequence\n",
            "Brown Dwarf\n",
            "White Dwarf\n",
            "Supergiant\n",
            "Main Sequence\n",
            "Main Sequence\n",
            "Main Sequence\n",
            "White Dwarf\n",
            "Red Dwarf\n",
            "Brown Dwarf\n",
            "Red Dwarf\n",
            "Brown Dwarf\n",
            "Supergiant\n",
            "Brown Dwarf\n",
            "Supergiant\n",
            "Main Sequence\n",
            "Supergiant\n",
            "Main Sequence\n",
            "Brown Dwarf\n",
            "Main Sequence\n",
            "Red Dwarf\n",
            "Main Sequence\n",
            "Main Sequence\n"
          ]
        }
      ],
      "source": [
        "import pandas as pd\n",
        "from sklearn.tree import DecisionTreeClassifier\n",
        "from sklearn.model_selection import train_test_split, cross_val_score\n",
        "from sklearn.metrics import precision_score, recall_score\n",
        "import matplotlib.pyplot as plt\n",
        "from sklearn.preprocessing import LabelEncoder\n",
        "\n",
        "print(\"============ BENVENUTO ============\")\n",
        "print(\"Questo è un classificatore che predice il tipo delle stelle osservate dal telescopio Kepler\")\n",
        "df = pd.read_csv('data.csv')\n",
        "le = LabelEncoder()\n",
        "\n",
        "df['Star color'] = le.fit_transform(df['Star color'].values)\n",
        "df['Spectral Class'] = le.fit_transform(df['Spectral Class'].values)\n",
        "\n",
        "\n",
        "X = df.drop(['Star type'], axis = 1).values\n",
        "y = df['Star type'].values\n",
        "\n",
        "X_train, X_test, y_train, y_test = train_test_split(X, y, test_size = 0.2, random_state = 42)\n",
        "clf = DecisionTreeClassifier()\n",
        "clf.fit(X_train, y_train)\n",
        "y_pred = clf.predict(X_test)\n",
        "\n",
        "precision = precision_score(y_test, y_pred, average = 'weighted')\n",
        "cross = cross_val_score(clf, X_test, y_test, cv = 5)\n",
        "recall = recall_score(y_test, y_pred, average = 'weighted')\n",
        "\n",
        "y_pred_str = []\n",
        "\n",
        "for value in y_pred:\n",
        "  if y_pred[value] == 0: y_pred_str.append(\"Brown Dwarf\")\n",
        "  elif y_pred[value] == 1: y_pred_str.append(\"Red Dwarf\")\n",
        "  elif y_pred[value] == 2: y_pred_str.append(\"Red Dwarf\")\n",
        "  elif y_pred[value] == 3: y_pred_str.append(\"White Dwarf\")\n",
        "  elif y_pred[value] == 4: y_pred_str.append(\"Main Sequence\")\n",
        "  elif y_pred[value] == 5: y_pred_str.append(\"Supergiant\")\n",
        "  elif y_pred[value] == 6: y_pred_str.append(\"Hypergiant\")\n",
        "\n",
        "for star in y_pred_str:\n",
        "  print(star)"
      ]
    }
  ]
}